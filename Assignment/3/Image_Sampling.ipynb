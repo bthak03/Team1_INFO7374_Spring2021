{
 "cells": [
  {
   "cell_type": "code",
   "execution_count": 76,
   "metadata": {},
   "outputs": [],
   "source": [
    "%config Completer.use_jedi = False\n",
    "\n",
    "import numpy as np\n",
    "import pandas as pd\n",
    "import tensorflow as tf\n",
    "from tensorflow.keras.applications.vgg19 import preprocess_input\n",
    "from tensorflow.keras.models import Model\n",
    "import io\n",
    "import bson\n",
    "import matplotlib.pyplot as plt\n",
    "from skimage.io import imread   # or, whatever image library you prefer\n",
    "import multiprocessing as mp  \n",
    "import cv2\n",
    "import glob\n",
    "import json\n",
    "import ntpath\n"
   ]
  },
  {
   "cell_type": "markdown",
   "metadata": {},
   "source": [
    "<html><font color= 'blue'size =5> Image Sample Final Code"
   ]
  },
  {
   "cell_type": "code",
   "execution_count": 67,
   "metadata": {},
   "outputs": [],
   "source": [
    "sampleCategories = pd.read_csv('files/categories.csv')\n",
    "catIdSample = np.array(sampleCategories.category_id)"
   ]
  },
  {
   "cell_type": "code",
   "execution_count": 69,
   "metadata": {},
   "outputs": [
    {
     "data": {
      "text/plain": [
       "100"
      ]
     },
     "execution_count": 69,
     "metadata": {},
     "output_type": "execute_result"
    }
   ],
   "source": [
    "len(catIdSample)"
   ]
  },
  {
   "cell_type": "code",
   "execution_count": 70,
   "metadata": {},
   "outputs": [],
   "source": [
    "imgs = {}\n",
    "v = 0\n",
    "data = bson.decode_file_iter(open('../Assign3/files/input/train.bson', 'rb'))\n",
    "for j,d in enumerate(data):\n",
    "    if d['category_id'] in catIdSample:\n",
    "        if d['category_id'] in imgs.keys():\n",
    "            v = imgs[d['category_id']]\n",
    "            imgs[d['category_id']] = v+ len(d['imgs'])\n",
    "            if imgs[d['category_id']] <= 100:\n",
    "                t = d['category_id']\n",
    "                for e,pic in enumerate(d['imgs']):\n",
    "                    img = imread(io.BytesIO(pic['picture']))\n",
    "                    plt.imsave(\"sampleimages/%s_%s_%s.jpeg\"%(t,j,e+1),img)\n",
    "        else:\n",
    "            imgs[d['category_id']] = len(d['imgs'])\n",
    "            t = d['category_id']\n",
    "            for e,pic in enumerate(d['imgs']):\n",
    "                img = imread(io.BytesIO(pic['picture']))\n",
    "                plt.imsave(\"sampleimages/%s_%s_%s.jpeg\"%(t,j,e),img)\n"
   ]
  },
  {
   "cell_type": "code",
   "execution_count": null,
   "metadata": {},
   "outputs": [],
   "source": []
  }
 ],
 "metadata": {
  "kernelspec": {
   "display_name": "Python 3",
   "language": "python",
   "name": "python3"
  },
  "language_info": {
   "codemirror_mode": {
    "name": "ipython",
    "version": 3
   },
   "file_extension": ".py",
   "mimetype": "text/x-python",
   "name": "python",
   "nbconvert_exporter": "python",
   "pygments_lexer": "ipython3",
   "version": "3.8.5"
  }
 },
 "nbformat": 4,
 "nbformat_minor": 4
}
