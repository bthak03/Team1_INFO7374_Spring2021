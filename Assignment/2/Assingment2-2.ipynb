{
 "cells": [
  {
   "cell_type": "code",
   "execution_count": 1,
   "metadata": {},
   "outputs": [],
   "source": [
    "%config Completer.use_jedi = False\n",
    "\n",
    "import matplotlib.pyplot as plt \n",
    "import numpy as np\n",
    "import pandas as pd\n",
    "from sklearn.utils import resample\n",
    "from sklearn.preprocessing import MinMaxScaler\n",
    "from sklearn.model_selection import train_test_split\n",
    "\n",
    "import keras\n",
    "\n",
    "plt.style.use('ggplot')"
   ]
  },
  {
   "cell_type": "code",
   "execution_count": 3,
   "metadata": {},
   "outputs": [],
   "source": [
    "def add_derived_columns(df):\n",
    "    df_ext = df.copy()\n",
    "    df_ext['jid'] = df_ext['uid'].map(str) + '_' + df_ext['conversion_id'].map(str)\n",
    "    \n",
    "    min_max_scaler = MinMaxScaler()\n",
    "    for cname in ('timestamp', 'time_since_last_click'):\n",
    "        x = df_ext[cname].values.reshape(-1, 1) \n",
    "        df_ext[cname + '_norm'] = min_max_scaler.fit_transform(x)\n",
    "    \n",
    "    return df_ext\n",
    "\n",
    "def filter_journeys_by_length(df, min_touchpoints):\n",
    "    if min_touchpoints <= 1:\n",
    "        return df\n",
    "    else:\n",
    "        grouped = df.groupby(['jid'])['uid'].count().reset_index(name=\"count\")\n",
    "        return df[df['jid'].isin( grouped[grouped['count'] >= min_touchpoints]['jid'].values )]\n",
    "\n",
    "def sample_campaigns(df, n_campaigns):    \n",
    "    campaigns = np.random.choice( df['campaign'].unique(), n_campaigns, replace = False )\n",
    "    return df[ df['campaign'].isin(campaigns) ]\n",
    "def balance_conversions(df):\n",
    "    df_minority = df[df.conversion == 1]\n",
    "    df_majority = df[df.conversion == 0]\n",
    "    \n",
    "    df_majority_jids = np.array_split(df_majority['jid'].unique(), 100 * df_majority.shape[0]/df_minority.shape[0] )\n",
    "    \n",
    "    df_majority_sampled = pd.DataFrame(data=None, columns=df.columns)\n",
    "    for jid_chunk in df_majority_jids:\n",
    "        df_majority_sampled = pd.concat([df_majority_sampled, df_majority[df_majority.jid.isin(jid_chunk)]])\n",
    "        if df_majority_sampled.shape[0] > df_minority.shape[0]:\n",
    "            break\n",
    "    \n",
    "    return pd.concat([df_majority_sampled, df_minority]).sample(frac=1).reset_index(drop=True)\n",
    "\n",
    "def map_one_hot(df, column_names, result_column_name):\n",
    "    mapper = {} \n",
    "    for i, col_name in enumerate(column_names):\n",
    "        for val in df[col_name].unique():\n",
    "            mapper[str(val) + str(i)] = len(mapper)\n",
    "         \n",
    "    df_ext = df.copy()\n",
    "    \n",
    "    def one_hot(values):\n",
    "        v = np.zeros( len(mapper) )\n",
    "        for i, val in enumerate(values): \n",
    "            v[ mapper[str(val) + str(i)] ] = 1\n",
    "        return v    \n",
    "    \n",
    "    df_ext[result_column_name] = df_ext[column_names].values.tolist()\n",
    "    df_ext[result_column_name] = df_ext[result_column_name].map(one_hot)\n",
    "    \n",
    "    return df_ext"
   ]
  },
  {
   "cell_type": "code",
   "execution_count": 4,
   "metadata": {},
   "outputs": [
    {
     "name": "stdout",
     "output_type": "stream",
     "text": [
      "699088\n",
      "[351253, 347835]\n"
     ]
    }
   ],
   "source": [
    "DATA_FILE='criteo_attribution_dataset.tsv.gz'\n",
    "df0 = pd.read_csv(DATA_FILE, sep='\\t', compression='gzip')\n",
    "\n",
    "n_campaigns = 400\n",
    "\n",
    "def lta_df(df):\n",
    "    df0 = df\n",
    "    df1 = add_derived_columns(df0)\n",
    "    df2 = sample_campaigns(df1, n_campaigns)\n",
    "    df3 = filter_journeys_by_length(df2, 2)\n",
    "    df4 = balance_conversions(df3)\n",
    "    df5 = map_one_hot(df4, ['cat1', 'cat2', 'cat3', 'cat4', 'cat5', 'cat6', 'cat8'], 'cats')\n",
    "    df6 = map_one_hot(df5, ['campaign'], 'campaigns').sort_values(by=['timestamp_norm'])\n",
    "    return df6\n",
    "df6 = lta_df(df0)\n",
    "print(df6.shape[0])\n",
    "print([df6[df6.conversion == 0].shape[0], df6[df6.conversion == 1].shape[0]])"
   ]
  },
  {
   "cell_type": "markdown",
   "metadata": {},
   "source": [
    "<html><font color = 'blue' size = 4 > Last Touch Attribute\n",
    "    "
   ]
  },
  {
   "cell_type": "code",
   "execution_count": 5,
   "metadata": {},
   "outputs": [],
   "source": [
    "def last_touch_attribution(df):\n",
    "    \n",
    "    def count_by_campaign(df):\n",
    "        counters = np.zeros(n_campaigns)\n",
    "        for campaign_one_hot in df['campaigns'].values:\n",
    "            campaign_id = np.argmax(campaign_one_hot)\n",
    "            counters[campaign_id] = counters[campaign_id] + 1\n",
    "        return counters\n",
    "        \n",
    "    campaign_impressions = count_by_campaign(df)\n",
    "    \n",
    "    df_converted = df[df['conversion'] == 1]\n",
    "    idx = df_converted.groupby(['jid'])['timestamp_norm'].transform(max) == df_converted['timestamp_norm']\n",
    "    campaign_conversions = count_by_campaign(df_converted[idx])\n",
    "        \n",
    "    return campaign_conversions / campaign_impressions\n",
    "    \n",
    "lta = last_touch_attribution(df6)\n"
   ]
  },
  {
   "cell_type": "code",
   "execution_count": 54,
   "metadata": {},
   "outputs": [],
   "source": [
    "lta_1 = pd.DataFrame(lta, columns = ['Value'])\n",
    "lta_1.head()\n",
    "lta_1.to_csv('lta.csv')"
   ]
  },
  {
   "cell_type": "code",
   "execution_count": 6,
   "metadata": {},
   "outputs": [
    {
     "data": {
      "image/png": "[encoded data removed]",
      "text/plain": [
       "<Figure size 1080x288 with 1 Axes>"
      ]
     },
     "metadata": {},
     "output_type": "display_data"
    }
   ],
   "source": [
    "# Visualization of the attribution scores\n",
    "\n",
    "campaign_idx = range(150, 200)\n",
    "\n",
    "fig = plt.figure(figsize=(15,4))\n",
    "ax = fig.add_subplot(111)\n",
    "plt.bar( range(len(lta[campaign_idx])), lta[campaign_idx], label='LTA' )\n",
    "plt.xlabel('Campaign ID')\n",
    "plt.ylabel('Return per impression')\n",
    "plt.legend(loc='upper left')\n",
    "plt.show()"
   ]
  },
  {
   "cell_type": "markdown",
   "metadata": {},
   "source": [
    "<html><font color = 'blue' size = 4 > First Touch Attribute"
   ]
  },
  {
   "cell_type": "code",
   "execution_count": 7,
   "metadata": {},
   "outputs": [],
   "source": [
    "def first_touch_attribution(df):\n",
    "    \n",
    "    def count_by_campaign(df):\n",
    "        counters = np.zeros(n_campaigns)\n",
    "        for campaign_one_hot in df['campaigns'].values:\n",
    "            campaign_id = np.argmax(campaign_one_hot)\n",
    "            counters[campaign_id] = counters[campaign_id] + 1\n",
    "        return counters\n",
    "        \n",
    "    campaign_impressions = count_by_campaign(df)\n",
    "    \n",
    "    df_converted = df[df['conversion'] == 1]\n",
    "    idx = df_converted.groupby(['jid'])['timestamp_norm'].transform(min) == df_converted['timestamp_norm']\n",
    "    campaign_conversions = count_by_campaign(df_converted[idx])\n",
    "        \n",
    "    return campaign_conversions / campaign_impressions\n",
    "    \n",
    "fta = first_touch_attribution(df6)"
   ]
  },
  {
   "cell_type": "code",
   "execution_count": 53,
   "metadata": {},
   "outputs": [],
   "source": [
    "fta_1 = pd.DataFrame(fta, columns = ['Value'])\n",
    "fta_1.head()\n",
    "fta_1.to_csv('fta.csv')"
   ]
  },
  {
   "cell_type": "code",
   "execution_count": 9,
   "metadata": {},
   "outputs": [
    {
     "data": {
      "image/png": "[encoded data removed]",
      "text/plain": [
       "<Figure size 1080x288 with 1 Axes>"
      ]
     },
     "metadata": {},
     "output_type": "display_data"
    }
   ],
   "source": [
    "campaign_idx = range(150, 200)\n",
    "\n",
    "fig = plt.figure(figsize=(15,4))\n",
    "ax = fig.add_subplot(111)\n",
    "plt.bar( range(len(lta[campaign_idx])), fta[campaign_idx], label='FTA' )\n",
    "plt.xlabel('Campaign ID')\n",
    "plt.ylabel('Return per impression')\n",
    "plt.legend(loc='upper left')\n",
    "plt.show()"
   ]
  },
  {
   "cell_type": "markdown",
   "metadata": {},
   "source": [
    "<html><font color = 'blue' size = 4 > Linear Model"
   ]
  },
  {
   "cell_type": "code",
   "execution_count": 34,
   "metadata": {},
   "outputs": [],
   "source": [
    "def linear_model(df):\n",
    "    df = df6\n",
    "    # Filter the data frame of uid which has conversion ==1 \n",
    "    df_conv = df6.copy()\n",
    "    # Creating a dataframe conatinng the total count of each campaigin in a particualr jid\n",
    "    df_count = df_conv.groupby('jid')['campaign'].nunique().reset_index(name = 'count')\n",
    "    # groupby jid and campaign to merge with count data frame later\n",
    "    df_t = df_conv.groupby(['jid', 'campaign']).size().reset_index(name='Freq')#.sort_values(by = 'jid')\n",
    "    df_merge = pd.merge(df_count,df_t)\n",
    "    # Identifying each indivudal campaign weights\n",
    "    df_merge['linear_weights'] = 1/df_merge['count']\n",
    "    # creating a final data frame consisting of weights from individual campaigns \n",
    "    linear_df = df_merge.groupby('campaign')['linear_weights'].agg('sum').reset_index(name = 'weight')\n",
    "    totalCampaign = df6.groupby(['campaign'])['campaign'].count().reset_index(name = 'count')\n",
    "    linear_df = pd.merge(totalCampaign, linear_df)\n",
    "    linear_model = np.array(linear_df['weight']/linear_df['count'])\n",
    "    return linear_model"
   ]
  },
  {
   "cell_type": "code",
   "execution_count": 35,
   "metadata": {},
   "outputs": [],
   "source": [
    "lm = linear_model(df6)"
   ]
  },
  {
   "cell_type": "code",
   "execution_count": 52,
   "metadata": {},
   "outputs": [],
   "source": [
    "lm_1 = pd.DataFrame(lm, columns = ['Value'] )\n",
    "lm_1.to_csv('lm.csv')"
   ]
  },
  {
   "cell_type": "code",
   "execution_count": 40,
   "metadata": {},
   "outputs": [
    {
     "data": {
      "text/plain": [
       "array([0.22619048, 0.28054207, 0.27368307, 0.257011  , 0.26544289,\n",
       "       0.17902734, 0.20736448, 0.2470794 , 0.26830823, 0.13769231,\n",
       "       0.31878307, 0.27402402, 0.18554067, 0.18410189, 0.20004984,\n",
       "       0.22473404, 0.25626667, 0.1010101 , 0.16666667, 0.34161793,\n",
       "       0.27064394, 0.28992674, 0.17616494, 0.26725572, 0.30392157,\n",
       "       0.26014263, 0.31777778, 0.19626112, 0.181143  , 0.22853009,\n",
       "       0.21269683, 0.17704707, 0.37431319, 0.35173042, 0.30439815,\n",
       "       0.24287343, 0.2979798 , 0.26523995, 0.21849266, 0.32511211,\n",
       "       0.19028871, 0.24012508, 0.29733456, 0.26829268, 0.32352941,\n",
       "       0.1214378 , 0.33790323, 0.17969272, 0.20979131, 0.25070922,\n",
       "       0.30708333, 0.3030303 , 0.18045491, 0.31333333, 0.23515109,\n",
       "       0.17132725, 0.24984472, 0.19187726, 0.27012911, 0.18448276,\n",
       "       0.14299587, 0.24269739, 0.22932032, 0.2254835 , 0.23070175,\n",
       "       0.20943689, 0.24758513, 0.23668057, 0.36582902, 0.16045205,\n",
       "       0.15273742, 0.21941581, 0.22116487, 0.25260417, 0.13177918,\n",
       "       0.23976608, 0.24163209, 0.16718658, 0.23962283, 0.25670498,\n",
       "       0.15909091, 0.30353243, 0.18131646, 0.20185726, 0.18833829,\n",
       "       0.16800498, 0.17685075, 0.3607338 , 0.19512206, 0.1837053 ,\n",
       "       0.14492652, 0.29447279, 0.14984496, 0.1471277 , 0.1319949 ,\n",
       "       0.30208333, 0.22643098, 0.19815864, 0.25493827, 0.21012146,\n",
       "       0.20974189, 0.22916667, 0.22283407, 0.22909091, 0.34578313,\n",
       "       0.25418573, 0.21884058, 0.21064611, 0.17521846, 0.2405754 ,\n",
       "       0.17577031, 0.24293785, 0.08355072, 0.28924936, 0.20240515,\n",
       "       0.23099319, 0.22132838, 0.17934094, 0.18673892, 0.1354964 ,\n",
       "       0.2110946 , 0.1655132 , 0.24232082, 0.14583922, 0.21446208,\n",
       "       0.18202417, 0.35963189, 0.33129364, 0.38876626, 0.36838554,\n",
       "       0.172901  , 0.35024026, 0.09378901, 0.28780449, 0.12821832,\n",
       "       0.21323338, 0.1938343 , 0.28125   , 0.16888567, 0.20806288,\n",
       "       0.21729069, 0.22411616, 0.17165522, 0.23493397, 0.21383744,\n",
       "       0.08661322, 0.18472655, 0.19197531, 0.21687294, 0.2015472 ,\n",
       "       0.25559247, 0.13372819, 0.18456242, 0.15079365, 0.26054293,\n",
       "       0.23556104, 0.25785259, 0.28837495, 0.17493362, 0.30756579,\n",
       "       0.20571659, 0.22558783, 0.30035419, 0.28813559, 0.10025603,\n",
       "       0.25165837, 0.19074778, 0.17482983, 0.24050179, 0.3321196 ,\n",
       "       0.20287403, 0.33333333, 0.16911765, 0.10831991, 0.19245377,\n",
       "       0.16997653, 0.27429476, 0.0767102 , 0.16760652, 0.14971751,\n",
       "       0.23056185, 0.38207763, 0.23680063, 0.30769231, 0.20026882,\n",
       "       0.23841146, 0.35325987, 0.27792259, 0.21552619, 0.25259396,\n",
       "       0.18455507, 0.17318973, 0.22593985, 0.16992612, 0.19453859,\n",
       "       0.19583988, 0.18844085, 0.24339853, 0.17044279, 0.1942959 ,\n",
       "       0.41530055, 0.20822058, 0.26178823, 0.12588482, 0.19889184,\n",
       "       0.14358804, 0.18772727, 0.20411255, 0.34027778, 0.25554791,\n",
       "       0.32142857, 0.21534954, 0.19433107, 0.23165869, 0.28371016,\n",
       "       0.20538721, 0.24666667, 0.22264185, 0.29611358, 0.24898103,\n",
       "       0.24590164, 0.1964019 , 0.22713745, 0.21360442, 0.16987786,\n",
       "       0.12932706, 0.22199723, 0.25163399, 0.1778405 , 0.36509275,\n",
       "       0.30448718, 0.23339856, 0.2148318 , 0.17504307, 0.17982456,\n",
       "       0.18324653, 0.24064862, 0.12745098, 0.29312652, 0.24887387,\n",
       "       0.22786473, 0.24014099, 0.11156597, 0.22113249, 0.22816857,\n",
       "       0.5       , 0.23085586, 0.24252976, 0.12994262, 0.14872638,\n",
       "       0.23421196, 0.13229572, 0.26593445, 0.23762062, 0.22222222,\n",
       "       0.1544586 , 0.1740991 , 0.28735632, 0.12761555, 0.22643554,\n",
       "       0.24095755, 0.24653036, 0.10357967, 0.34174757, 0.22219662,\n",
       "       0.23941068, 0.22861842, 0.2311828 , 0.19037648, 0.29890046,\n",
       "       0.12411017, 0.24016393, 0.20877797, 0.23627351, 0.17585911,\n",
       "       0.22115385, 0.22757282, 0.25126263, 0.26806527, 0.18962963,\n",
       "       0.21277462, 0.33010091, 0.1877588 , 0.224606  , 0.15755002,\n",
       "       0.13649664, 0.12988362, 0.16321839, 0.16683761, 0.21769627,\n",
       "       0.16466529, 0.20896947, 0.15347196, 0.22378267, 0.24907801,\n",
       "       0.15061912, 0.20925076, 0.23434705, 0.15594375, 0.23318872,\n",
       "       0.24747475, 0.26271754, 0.34375   , 0.14259959, 0.1306828 ,\n",
       "       0.11867098, 0.19444444, 0.24906292, 0.19480942, 0.16768169,\n",
       "       0.23651414, 0.21471088, 0.26106195, 0.22190294, 0.25733634,\n",
       "       0.1984127 , 0.35      , 0.20338983, 0.2120187 , 0.13914911,\n",
       "       0.18375   , 0.27318105, 0.29081633, 0.19570478, 0.21593002,\n",
       "       0.23004535, 0.14785539, 0.18651515, 0.28440204, 0.11739051,\n",
       "       0.3284687 , 0.20885324, 0.24184097, 0.25104312, 0.2689759 ,\n",
       "       0.22646048, 0.2779464 , 0.20589133, 0.2092674 , 0.20730543,\n",
       "       0.18004587, 0.31830218, 0.21923077, 0.30128205, 0.16836701,\n",
       "       0.21872478, 0.281893  , 0.17135857, 0.1981982 , 0.21317104,\n",
       "       0.17745638, 0.14599783, 0.21428571, 0.17545083, 0.15914877,\n",
       "       0.17888229, 0.39465409, 0.21791955, 0.19456328, 0.21630854,\n",
       "       0.28014706, 0.32722513, 0.20287511, 0.22721823, 0.3079242 ,\n",
       "       0.27747336, 0.22482106, 0.22091643, 0.0912037 , 0.24496361,\n",
       "       0.25654434, 0.22971781, 0.25266667, 0.31290727, 0.22266614,\n",
       "       0.29888759, 0.19085536, 0.30946399, 0.24867987, 0.21339985,\n",
       "       0.23584637, 0.3606252 , 0.26468048, 0.2272892 , 0.26169429,\n",
       "       0.28556263, 0.19964349, 0.26960784, 0.20567965, 0.20515955,\n",
       "       0.17361205, 0.18287037, 0.10848577, 0.13029912, 0.08546735,\n",
       "       0.26064103, 0.27335449, 0.2148227 , 0.20778788, 0.27635046])"
      ]
     },
     "execution_count": 40,
     "metadata": {},
     "output_type": "execute_result"
    }
   ],
   "source": [
    "lm"
   ]
  },
  {
   "cell_type": "code",
   "execution_count": 12,
   "metadata": {},
   "outputs": [
    {
     "data": {
      "image/png": "[encoded data removed]",
      "text/plain": [
       "<Figure size 1080x288 with 1 Axes>"
      ]
     },
     "metadata": {},
     "output_type": "display_data"
    }
   ],
   "source": [
    "campaign_idx = range(1, 200)\n",
    "\n",
    "fig = plt.figure(figsize=(15,4))\n",
    "ax = fig.add_subplot(111)\n",
    "plt.bar( range(len(lm[campaign_idx])), lm[campaign_idx], label='Linear Model' )\n",
    "plt.xlabel('Campaign ID')\n",
    "plt.ylabel('Return per impression')\n",
    "plt.legend(loc='upper left')\n",
    "plt.show()"
   ]
  },
  {
   "cell_type": "markdown",
   "metadata": {},
   "source": [
    "<html><font color = 'blue' size = 4 > U Shape Attribute Model"
   ]
  },
  {
   "cell_type": "code",
   "execution_count": 30,
   "metadata": {},
   "outputs": [],
   "source": [
    "def uShapeAttri(df):\n",
    "    df6 = df\n",
    "    df_conv = df6.copy()\n",
    "    idx1 = df_conv.groupby(['jid'])['timestamp_norm'].transform(min)\n",
    "    idx2 = df_conv.groupby(['jid'])['timestamp_norm'].transform(max) \n",
    "    df1 = df_conv[df_conv['timestamp_norm'].isin(idx2)]\n",
    "    df2 = df_conv[df_conv['timestamp_norm'].isin(idx2)]\n",
    "    df1 = pd.concat([df1,df2])\n",
    "    df1['weight'] = .20\n",
    "    df1 = df1[['jid', 'campaign', 'weight']]\n",
    "    ### Creating a data frame for the middle camapigns in each jid \n",
    "    df2 = df_conv[~df['timestamp_norm'].isin(idx2)]\n",
    "    df_count = df2.groupby('jid')['campaign'].nunique().reset_index(name = 'count')\n",
    "    df_t = df2.groupby(['jid', 'campaign']).size().reset_index(name='Freq')\n",
    "    df_merge = pd.merge(df_count,df_t)\n",
    "    # Identifying each indivudal campaign weights\n",
    "    df_merge['weight'] = 0.6/df_merge['count']\n",
    "    df_merge = df_merge[['jid', 'campaign','weight']]\n",
    "    # Concating the dataframe for both First and Last touch points weights with the middle weight \n",
    "    df = pd.concat([df1,df_merge]) \n",
    "    return df\n",
    "\n",
    "uDf = uShapeAttri(df6)\n",
    "uDf = uDf.groupby('campaign')['weight'].agg('sum').reset_index(name = 'weight')\n",
    "# Creating the total campaign data frame\n",
    "totalCampaign = df6.groupby(['campaign'])['campaign'].count().reset_index(name = 'count')\n",
    "uDf = pd.merge(totalCampaign, uDf)\n",
    "# Creating final utouch model \n",
    "uTouchModel = np.array(uDf['weight']/uDf['count'])"
   ]
  },
  {
   "cell_type": "code",
   "execution_count": 51,
   "metadata": {},
   "outputs": [],
   "source": [
    "ushape = pd.DataFrame(uTouchModel, columns = ['Value'])\n",
    "ushape.to_csv('ushape.csv')"
   ]
  },
  {
   "cell_type": "code",
   "execution_count": 14,
   "metadata": {},
   "outputs": [
    {
     "data": {
      "image/png": "[encoded data removed]",
      "text/plain": [
       "<Figure size 1080x288 with 1 Axes>"
      ]
     },
     "metadata": {},
     "output_type": "display_data"
    }
   ],
   "source": [
    "campaign_idx = range(1, 200)\n",
    "\n",
    "fig = plt.figure(figsize=(15,4))\n",
    "ax = fig.add_subplot(111)\n",
    "plt.bar( range(len(uTouchModel[campaign_idx])), uTouchModel[campaign_idx], label='U Shape Attribute Model' )\n",
    "plt.xlabel('Campaign ID')\n",
    "plt.ylabel('Return per impression')\n",
    "plt.legend(loc='upper left')\n",
    "plt.show()"
   ]
  },
  {
   "cell_type": "markdown",
   "metadata": {},
   "source": [
    "<html><font color = 'blue' size = 4 > Time Decay Model"
   ]
  },
  {
   "cell_type": "code",
   "execution_count": 56,
   "metadata": {},
   "outputs": [
    {
     "name": "stderr",
     "output_type": "stream",
     "text": [
      "<ipython-input-56-ce7cd7fb6626>:7: SettingWithCopyWarning: \n",
      "A value is trying to be set on a copy of a slice from a DataFrame.\n",
      "Try using .loc[row_indexer,col_indexer] = value instead\n",
      "\n",
      "See the caveats in the documentation: https://pandas.pydata.org/pandas-docs/stable/user_guide/indexing.html#returning-a-view-versus-a-copy\n",
      "  df_converted['timedecay'] = df_converted['days'].transform(lambda x: 2**(-x/7))\n"
     ]
    }
   ],
   "source": [
    "df6['days_time'] = df6['conversion_timestamp'] - df6['timestamp']\n",
    "df6['days'] = (df6.days_time / 86400.).apply(int)\n",
    "\n",
    "timedf = df6[['uid', 'campaign', 'conversion','conversion_id','click', 'timestamp_norm', 'jid','days']]\n",
    "\n",
    "df_converted = timedf[timedf['conversion'] == 1]\n",
    "df_converted['timedecay'] = df_converted['days'].transform(lambda x: 2**(-x/7))\n",
    "\n",
    "tdf = df_converted.groupby('campaign')['timedecay'].agg('sum').reset_index(name = 'weight')\n",
    "\n",
    "timedecay = pd.merge(totalCampaign, tdf, how = 'left')\n",
    "timedecay.weight = timedecay.weight.fillna(0)\n",
    "timedecay = np.array(timedecay['weight']/timedecay['count'])"
   ]
  },
  {
   "cell_type": "code",
   "execution_count": 61,
   "metadata": {},
   "outputs": [],
   "source": [
    "timedelta1 = pd.DataFrame(timedecay, columns = ['Value'])\n",
    "timedelta1.to_csv('timedelta.csv')"
   ]
  },
  {
   "cell_type": "code",
   "execution_count": 58,
   "metadata": {},
   "outputs": [
    {
     "data": {
      "image/png": "[encoded data removed]",
      "text/plain": [
       "<Figure size 1080x288 with 1 Axes>"
      ]
     },
     "metadata": {},
     "output_type": "display_data"
    }
   ],
   "source": [
    "campaign_idx = range(0, 50)\n",
    "\n",
    "fig = plt.figure(figsize=(15,4))\n",
    "ax = fig.add_subplot(111)\n",
    "plt.bar( range(len(timedecay[campaign_idx])), timedecay[campaign_idx], label='TDA' )\n",
    "plt.xlabel('Campaign ID')\n",
    "plt.ylabel('Return per impression')\n",
    "plt.legend(loc='upper left')\n",
    "plt.show()"
   ]
  },
  {
   "cell_type": "markdown",
   "metadata": {},
   "source": [
    "<html><font color = 'blue' size = 4 > ROI"
   ]
  },
  {
   "cell_type": "code",
   "execution_count": 17,
   "metadata": {},
   "outputs": [],
   "source": [
    "def get_campaign_id(x_journey_step):\n",
    "    return np.argmax(x_journey_step[0:n_campaigns])\n",
    "def simulate_budget_roi(df, budget_total, attribution, verbose=False):\n",
    "    budgets = np.ceil(attribution * (budget_total / np.sum(attribution)))\n",
    "    \n",
    "    if(verbose):\n",
    "        print(budgets)\n",
    "    \n",
    "    blacklist = set()\n",
    "    conversions = set()\n",
    "    for i in range(df.shape[0]):\n",
    "        campaign_id = get_campaign_id(df.loc[i]['campaigns']) \n",
    "        jid = df.loc[i]['jid']\n",
    "        if jid not in blacklist:\n",
    "            if budgets[campaign_id] >= 1:\n",
    "                budgets[campaign_id] = budgets[campaign_id] - 1\n",
    "                if(df.loc[i]['conversion'] == 1):\n",
    "                    conversions.add(jid)\n",
    "            else:\n",
    "                blacklist.add(jid)\n",
    "        \n",
    "        if(verbose):\n",
    "            if(i % 10000 == 0):\n",
    "                print('{:.2%} : {:.2%} budget spent'.format(i/df.shape[0], 1.0 - np.sum(budgets)/budget_total ))\n",
    "        \n",
    "        if(np.sum(budgets) < budget_total * 0.02):\n",
    "            break\n",
    "            \n",
    "    return len(conversions.difference(blacklist))\n"
   ]
  },
  {
   "cell_type": "code",
   "execution_count": 59,
   "metadata": {},
   "outputs": [
    {
     "name": "stdout",
     "output_type": "stream",
     "text": [
      "0.5 0 : 908\n",
      "0.5 1 : 908\n",
      "0.5 2 : 1133\n",
      "0.5 3 : 1134\n",
      "0.5 4 : 790\n",
      "1.0 0 : 298\n",
      "1.0 1 : 298\n",
      "1.0 2 : 1075\n",
      "1.0 3 : 1068\n",
      "1.0 4 : 257\n",
      "1.5 0 : 352\n",
      "1.5 1 : 352\n",
      "1.5 2 : 982\n",
      "1.5 3 : 944\n",
      "1.5 4 : 173\n",
      "2.0 0 : 412\n",
      "2.0 1 : 412\n",
      "2.0 2 : 839\n",
      "2.0 3 : 726\n",
      "2.0 4 : 193\n",
      "2.5 0 : 476\n",
      "2.5 1 : 476\n",
      "2.5 2 : 629\n",
      "2.5 3 : 636\n",
      "2.5 4 : 203\n",
      "3.0 0 : 519\n",
      "3.0 1 : 519\n",
      "3.0 2 : 494\n",
      "3.0 3 : 501\n",
      "3.0 4 : 218\n"
     ]
    }
   ],
   "source": [
    "pitches = [0.5, 1.0, 1.5, 2.0, 2.5, 3.0]\n",
    "attributions = [lta, fta, uTouchModel, lm, timedecay]\n",
    "\n",
    "for i, pitch in enumerate(pitches):\n",
    "    for j, attribution in enumerate(attributions):\n",
    "        reward = simulate_budget_roi(df6, 10000, attribution**pitch)\n",
    "        print('{} {} : {}'.format(pitch, j, reward))"
   ]
  }
 ],
 "metadata": {
  "kernelspec": {
   "display_name": "Python 3",
   "language": "python",
   "name": "python3"
  },
  "language_info": {
   "codemirror_mode": {
    "name": "ipython",
    "version": 3
   },
   "file_extension": ".py",
   "mimetype": "text/x-python",
   "name": "python",
   "nbconvert_exporter": "python",
   "pygments_lexer": "ipython3",
   "version": "3.8.5"
  }
 },
 "nbformat": 4,
 "nbformat_minor": 4
}
