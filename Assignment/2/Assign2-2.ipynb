{
 "cells": [
  {
   "cell_type": "code",
   "execution_count": 4,
   "metadata": {},
   "outputs": [],
   "source": [
    "%config Completer.use_jedi = False\n",
    "\n",
    "import matplotlib.pyplot as plt \n",
    "import numpy as np\n",
    "import pandas as pd\n",
    "from sklearn.utils import resample\n",
    "from sklearn.preprocessing import MinMaxScaler\n",
    "from sklearn.model_selection import train_test_split\n",
    "\n",
    "import keras\n",
    "\n",
    "plt.style.use('ggplot')"
   ]
  },
  {
   "cell_type": "code",
   "execution_count": 5,
   "metadata": {},
   "outputs": [],
   "source": [
    "def add_derived_columns(df):\n",
    "    df_ext = df.copy()\n",
    "    df_ext['jid'] = df_ext['uid'].map(str) + '_' + df_ext['conversion_id'].map(str)\n",
    "    \n",
    "    min_max_scaler = MinMaxScaler()\n",
    "    for cname in ('timestamp', 'time_since_last_click'):\n",
    "        x = df_ext[cname].values.reshape(-1, 1) \n",
    "        df_ext[cname + '_norm'] = min_max_scaler.fit_transform(x)\n",
    "    \n",
    "    return df_ext\n",
    "\n",
    "def filter_journeys_by_length(df, min_touchpoints):\n",
    "    if min_touchpoints <= 1:\n",
    "        return df\n",
    "    else:\n",
    "        grouped = df.groupby(['jid'])['uid'].count().reset_index(name=\"count\")\n",
    "        return df[df['jid'].isin( grouped[grouped['count'] >= min_touchpoints]['jid'].values )]\n",
    "\n",
    "def sample_campaigns(df, n_campaigns):    \n",
    "    campaigns = np.random.choice( df['campaign'].unique(), n_campaigns, replace = False )\n",
    "    return df[ df['campaign'].isin(campaigns) ]\n",
    "def balance_conversions(df):\n",
    "    df_minority = df[df.conversion == 1]\n",
    "    df_majority = df[df.conversion == 0]\n",
    "    \n",
    "    df_majority_jids = np.array_split(df_majority['jid'].unique(), 100 * df_majority.shape[0]/df_minority.shape[0] )\n",
    "    \n",
    "    df_majority_sampled = pd.DataFrame(data=None, columns=df.columns)\n",
    "    for jid_chunk in df_majority_jids:\n",
    "        df_majority_sampled = pd.concat([df_majority_sampled, df_majority[df_majority.jid.isin(jid_chunk)]])\n",
    "        if df_majority_sampled.shape[0] > df_minority.shape[0]:\n",
    "            break\n",
    "    \n",
    "    return pd.concat([df_majority_sampled, df_minority]).sample(frac=1).reset_index(drop=True)\n",
    "\n",
    "def map_one_hot(df, column_names, result_column_name):\n",
    "    mapper = {} \n",
    "    for i, col_name in enumerate(column_names):\n",
    "        for val in df[col_name].unique():\n",
    "            mapper[str(val) + str(i)] = len(mapper)\n",
    "         \n",
    "    df_ext = df.copy()\n",
    "    \n",
    "    def one_hot(values):\n",
    "        v = np.zeros( len(mapper) )\n",
    "        for i, val in enumerate(values): \n",
    "            v[ mapper[str(val) + str(i)] ] = 1\n",
    "        return v    \n",
    "    \n",
    "    df_ext[result_column_name] = df_ext[column_names].values.tolist()\n",
    "    df_ext[result_column_name] = df_ext[result_column_name].map(one_hot)\n",
    "    \n",
    "    return df_ext"
   ]
  },
  {
   "cell_type": "code",
   "execution_count": 6,
   "metadata": {},
   "outputs": [
    {
     "name": "stdout",
     "output_type": "stream",
     "text": [
      "657713\n",
      "[330979, 326734]\n"
     ]
    }
   ],
   "source": [
    "data_file = 'criteo_attribution_dataset.tsv.gz'\n",
    "df0 = pd.read_csv(data_file, sep='\\t', compression='gzip')\n",
    "\n",
    "n_campaigns = 400\n",
    "\n",
    "def lta_df(df):\n",
    "    df0 = df\n",
    "    df1 = add_derived_columns(df0)\n",
    "    df2 = sample_campaigns(df1, n_campaigns)\n",
    "    df3 = filter_journeys_by_length(df2, 2)\n",
    "    df4 = balance_conversions(df3)\n",
    "    df5 = map_one_hot(df4, ['cat1', 'cat2', 'cat3', 'cat4', 'cat5', 'cat6', 'cat8'], 'cats')\n",
    "    df6 = map_one_hot(df5, ['campaign'], 'campaigns').sort_values(by=['timestamp_norm'])\n",
    "    return df6\n",
    "df6 = lta_df(df0)\n",
    "print(df6.shape[0])\n",
    "print([df6[df6.conversion == 0].shape[0], df6[df6.conversion == 1].shape[0]])"
   ]
  },
  {
   "cell_type": "code",
   "execution_count": 4,
   "metadata": {},
   "outputs": [],
   "source": [
    "def last_touch_attribution(df):\n",
    "    \n",
    "    def count_by_campaign(df):\n",
    "        counters = np.zeros(n_campaigns)\n",
    "        for campaign_one_hot in df['campaigns'].values:\n",
    "            campaign_id = np.argmax(campaign_one_hot)\n",
    "            counters[campaign_id] = counters[campaign_id] + 1\n",
    "        return counters\n",
    "        \n",
    "    campaign_impressions = count_by_campaign(df)\n",
    "    \n",
    "    df_converted = df[df['conversion'] == 1]\n",
    "    idx = df_converted.groupby(['jid'])['timestamp_norm'].transform(max) == df_converted['timestamp_norm']\n",
    "    campaign_conversions = count_by_campaign(df_converted[idx])\n",
    "        \n",
    "    return campaign_conversions / campaign_impressions\n",
    "    \n",
    "lta = last_touch_attribution(df6)"
   ]
  },
  {
   "cell_type": "code",
   "execution_count": 5,
   "metadata": {},
   "outputs": [
    {
     "data": {
      "image/png": "[encoded data removed]",
      "text/plain": [
       "<Figure size 1080x288 with 1 Axes>"
      ]
     },
     "metadata": {},
     "output_type": "display_data"
    }
   ],
   "source": [
    "# Visualization of the attribution scores\n",
    "\n",
    "campaign_idx = range(150, 200)\n",
    "\n",
    "fig = plt.figure(figsize=(15,4))\n",
    "ax = fig.add_subplot(111)\n",
    "plt.bar( range(len(lta[campaign_idx])), lta[campaign_idx], label='LTA' )\n",
    "plt.xlabel('Campaign ID')\n",
    "plt.ylabel('Return per impression')\n",
    "plt.legend(loc='upper left')\n",
    "plt.show()"
   ]
  },
  {
   "cell_type": "markdown",
   "metadata": {},
   "source": [
    "<html>  <font color = 'blue' size = 4>Logistic Regression \n"
   ]
  },
  {
   "cell_type": "code",
   "execution_count": 11,
   "metadata": {},
   "outputs": [],
   "source": [
    "def features_for_logistic_regression(df):\n",
    "\n",
    "    def pairwise_max(series):\n",
    "        return np.max(series.tolist(), axis = 0).tolist()\n",
    "    \n",
    "    aggregation = {\n",
    "        'campaigns': pairwise_max,\n",
    "        'cats': pairwise_max,\n",
    "        'click': 'sum',\n",
    "        'cost': 'sum',\n",
    "        'conversion': 'max'\n",
    "    }\n",
    "    \n",
    "    df_agg = df.groupby(['jid']).agg(aggregation)\n",
    "    \n",
    "    df_agg['features'] = df_agg[['campaigns', 'cats', 'click', 'cost']].values.tolist()\n",
    "    \n",
    "    return (\n",
    "        np.stack(df_agg['features'].map(lambda x: np.hstack(x)).values),\n",
    "        df_agg['conversion'].values\n",
    "    )\n"
   ]
  },
  {
   "cell_type": "code",
   "execution_count": 12,
   "metadata": {},
   "outputs": [
    {
     "name": "stdout",
     "output_type": "stream",
     "text": [
      "(138786, 1567)\n",
      "0.8594279126738238\n"
     ]
    },
    {
     "name": "stderr",
     "output_type": "stream",
     "text": [
      "C:\\ProgramData\\Anaconda3\\lib\\site-packages\\sklearn\\linear_model\\_logistic.py:762: ConvergenceWarning: lbfgs failed to converge (status=1):\n",
      "STOP: TOTAL NO. of ITERATIONS REACHED LIMIT.\n",
      "\n",
      "Increase the number of iterations (max_iter) or scale the data as shown in:\n",
      "    https://scikit-learn.org/stable/modules/preprocessing.html\n",
      "Please also refer to the documentation for alternative solver options:\n",
      "    https://scikit-learn.org/stable/modules/linear_model.html#logistic-regression\n",
      "  n_iter_i = _check_optimize_result(\n"
     ]
    }
   ],
   "source": [
    "x, y = features_for_logistic_regression(df6)\n",
    "print(np.shape(x))\n",
    "(145440, 1561)\n",
    "from sklearn.model_selection import train_test_split\n",
    "\n",
    "x_train, x_test, y_train, y_test = train_test_split(x, y, test_size = 0.20, random_state = 1)\n",
    "x_train, x_val, y_train, y_val = train_test_split(x_train, y_train, test_size = 0.20, random_state = 1)\n",
    "\n",
    "# Quick sanity check\n",
    "from sklearn.linear_model import LogisticRegression\n",
    "\n",
    "logisticRegr = LogisticRegression()\n",
    "logisticRegr.fit(x_train, y_train)\n",
    "score = logisticRegr.score(x_test, y_test)\n",
    "print(score)"
   ]
  },
  {
   "cell_type": "code",
   "execution_count": 13,
   "metadata": {},
   "outputs": [
    {
     "name": "stdout",
     "output_type": "stream",
     "text": [
      "Epoch 1/10\n",
      "694/694 [==============================] - 3s 3ms/step - loss: 0.5919 - accuracy: 0.6962 - val_loss: 0.4668 - val_accuracy: 0.8083\n",
      "Epoch 2/10\n",
      "694/694 [==============================] - 2s 2ms/step - loss: 0.4593 - accuracy: 0.8107 - val_loss: 0.4316 - val_accuracy: 0.8223\n",
      "Epoch 3/10\n",
      "694/694 [==============================] - 2s 2ms/step - loss: 0.4281 - accuracy: 0.8257 - val_loss: 0.4134 - val_accuracy: 0.8295\n",
      "Epoch 4/10\n",
      "694/694 [==============================] - 2s 2ms/step - loss: 0.4097 - accuracy: 0.8336 - val_loss: 0.4018 - val_accuracy: 0.8349\n",
      "Epoch 5/10\n",
      "694/694 [==============================] - 1s 2ms/step - loss: 0.4004 - accuracy: 0.8385 - val_loss: 0.3936 - val_accuracy: 0.8379\n",
      "Epoch 6/10\n",
      "694/694 [==============================] - 2s 2ms/step - loss: 0.3917 - accuracy: 0.8422 - val_loss: 0.3883 - val_accuracy: 0.8394\n",
      "Epoch 7/10\n",
      "694/694 [==============================] - 2s 2ms/step - loss: 0.3865 - accuracy: 0.8433 - val_loss: 0.3828 - val_accuracy: 0.8418\n",
      "Epoch 8/10\n",
      "694/694 [==============================] - 2s 2ms/step - loss: 0.3781 - accuracy: 0.8486 - val_loss: 0.3790 - val_accuracy: 0.8423\n",
      "Epoch 9/10\n",
      "694/694 [==============================] - 2s 2ms/step - loss: 0.3776 - accuracy: 0.8498 - val_loss: 0.3757 - val_accuracy: 0.8435\n",
      "Epoch 10/10\n",
      "694/694 [==============================] - 2s 2ms/step - loss: 0.3757 - accuracy: 0.8486 - val_loss: 0.3730 - val_accuracy: 0.8443\n",
      "Test score: 0.37250542640686035\n",
      "Test accuracy: 0.8452337980270386\n"
     ]
    }
   ],
   "source": [
    "from keras.models import Sequential \n",
    "from keras.layers import Dense, Dropout\n",
    "from keras.constraints import NonNeg\n",
    "\n",
    "m = np.shape(x)[1]\n",
    "    \n",
    "model = Sequential()  \n",
    "model.add(Dense(1, input_dim=m, activation='sigmoid', name = 'contributions')) \n",
    "\n",
    "model.compile(optimizer='rmsprop', loss='binary_crossentropy', metrics=['accuracy']) \n",
    "history = model.fit(x_train, y_train, batch_size=128, epochs=10, verbose=1, validation_data=(x_val, y_val)) \n",
    "score = model.evaluate(x_test, y_test, verbose=0) \n",
    "print('Test score:', score[0]) \n",
    "print('Test accuracy:', score[1])"
   ]
  },
  {
   "cell_type": "code",
   "execution_count": 14,
   "metadata": {},
   "outputs": [
    {
     "data": {
      "image/png": "[encoded data removed]",
      "text/plain": [
       "<Figure size 1080x288 with 1 Axes>"
      ]
     },
     "metadata": {},
     "output_type": "display_data"
    }
   ],
   "source": [
    "# Visualization of the attribution scores\n",
    "from sklearn.utils.extmath import softmax\n",
    "\n",
    "keras_logreg = model.get_layer('contributions').get_weights()[0].flatten()[0:n_campaigns]\n",
    "keras_logreg = softmax([keras_logreg]).flatten()\n",
    "\n",
    "fig = plt.figure(figsize=(15,4))\n",
    "ax = fig.add_subplot(111)\n",
    "plt.bar(range(len(keras_logreg[campaign_idx])), keras_logreg[campaign_idx] )\n",
    "plt.xlabel('Campaign ID')\n",
    "plt.ylabel('Return per impression')\n",
    "plt.show()"
   ]
  },
  {
   "cell_type": "markdown",
   "metadata": {},
   "source": [
    "<html><font color = 'blue' size = 4> First Touch Attribute"
   ]
  },
  {
   "cell_type": "code",
   "execution_count": 7,
   "metadata": {},
   "outputs": [],
   "source": [
    "def fta(df):\n",
    "    \n",
    "    def count_by_campaign(df):\n",
    "        counters = np.zeros(n_campaigns)\n",
    "        for campaign_one_hot in df['campaigns'].values:\n",
    "            campaign_id = np.argmax(campaign_one_hot)\n",
    "            counters[campaign_id] = counters[campaign_id] + 1\n",
    "        return counters\n",
    "        \n",
    "    campaign_impressions = count_by_campaign(df)\n",
    "    \n",
    "    df_converted = df[df['conversion'] == 1]\n",
    "    idx = df_converted.groupby(['jid'])['timestamp_norm'].transform(min) == df_converted['timestamp_norm']\n",
    "    campaign_conversions = count_by_campaign(df_converted[idx])\n",
    "        \n",
    "    return campaign_conversions / campaign_impressions\n",
    "    \n",
    "fta = fta(df6)"
   ]
  },
  {
   "cell_type": "code",
   "execution_count": 10,
   "metadata": {},
   "outputs": [
    {
     "data": {
      "image/png": "[encoded data removed]",
      "text/plain": [
       "<Figure size 1080x288 with 1 Axes>"
      ]
     },
     "metadata": {},
     "output_type": "display_data"
    }
   ],
   "source": [
    "campaign_idx = range(150, 200)\n",
    "\n",
    "fig = plt.figure(figsize=(15,4))\n",
    "ax = fig.add_subplot(111)\n",
    "plt.bar( range(len(fta[campaign_idx])), fta[campaign_idx], label='FTA' )\n",
    "plt.xlabel('Campaign ID')\n",
    "plt.ylabel('Return per impression')\n",
    "plt.legend(loc='upper left')\n",
    "plt.show()"
   ]
  },
  {
   "cell_type": "markdown",
   "metadata": {},
   "source": [
    "<html><font color = 'blue' size = 4> Linear Model"
   ]
  },
  {
   "cell_type": "code",
   "execution_count": 48,
   "metadata": {},
   "outputs": [],
   "source": [
    "def linear_model(df):\n",
    "    df6 = df\n",
    "    df_conv = df6.copy()#df6[df6['uid'].isin(df6[df6['conversion'] == 1].uid.unique())]\n",
    "    # Creating a dataframe conatinng the total count of each campaigin in a particualr jid\n",
    "    df_count = df_conv.groupby('jid')['campaign'].nunique().reset_index(name = 'count')\n",
    "    # groupby jid and campaign to merge with count data frame later\n",
    "    df_t = df_conv.groupby(['jid', 'campaign']).size().reset_index(name='Freq')#.sort_values(by = 'jid')\n",
    "    df_merge = pd.merge(df_count,df_t)\n",
    "    # Identifying each indivudal campaign weights\n",
    "    df_merge['linear_weights'] = 1/df_merge['count']\n",
    "    # creating a final data frame consisting of weights from individual campaigns \n",
    "    linear_df = df_merge.groupby('campaign')['linear_weights'].agg('sum').reset_index(name = 'weight')\n",
    "    totalCampaign = df6.groupby(['campaign'])['campaign'].count().reset_index(name = 'count')\n",
    "    linear_df = pd.merge(totalCampaign, linear_df)\n",
    "    linear_model = np.array(linear_df['weight']/linear_df['count'])\n",
    "    return linear_model"
   ]
  },
  {
   "cell_type": "code",
   "execution_count": 49,
   "metadata": {},
   "outputs": [],
   "source": [
    "lm = linear_model(df6)"
   ]
  },
  {
   "cell_type": "code",
   "execution_count": 50,
   "metadata": {},
   "outputs": [
    {
     "data": {
      "image/png": "[encoded data removed]",
      "text/plain": [
       "<Figure size 1080x288 with 1 Axes>"
      ]
     },
     "metadata": {},
     "output_type": "display_data"
    }
   ],
   "source": [
    "campaign_idx = range(1, 200)\n",
    "\n",
    "fig = plt.figure(figsize=(15,4))\n",
    "ax = fig.add_subplot(111)\n",
    "plt.bar( range(len(lm[campaign_idx])), lm[campaign_idx], label='Linear Touch Attribute' )\n",
    "plt.xlabel('Campaign ID')\n",
    "plt.ylabel('Return per impression')\n",
    "plt.legend(loc='upper left')\n",
    "plt.show()"
   ]
  },
  {
   "cell_type": "markdown",
   "metadata": {},
   "source": [
    "<html><font color = 'blue' size = 4> U Shape Attribute Model"
   ]
  },
  {
   "cell_type": "code",
   "execution_count": 47,
   "metadata": {},
   "outputs": [],
   "source": [
    "def uShapeAttri(df):\n",
    "    df6 = df\n",
    "    df_conv = df6.copy() #df6[df6['uid'].isin(df6[df6['conversion'] == 1].uid.unique())]\n",
    "    idx1 = df_conv.groupby(['jid'])['timestamp_norm'].transform(min)\n",
    "    idx2 = df_conv.groupby(['jid'])['timestamp_norm'].transform(max) \n",
    "    df1 = df_conv[df_conv['timestamp_norm'].isin(idx2)]\n",
    "    df2 = df_conv[df_conv['timestamp_norm'].isin(idx2)]\n",
    "    df1 = pd.concat([df1,df2])\n",
    "    df1['weight'] = .20\n",
    "    df1 = df1[['jid', 'campaign', 'weight']]\n",
    "    ### Creating a data frame for the middle camapigns in each jid \n",
    "    df2 = df_conv[~df['timestamp_norm'].isin(idx2)]\n",
    "    df_count = df2.groupby('jid')['campaign'].nunique().reset_index(name = 'count')\n",
    "    df_t = df2.groupby(['jid', 'campaign']).size().reset_index(name='Freq')\n",
    "    df_merge = pd.merge(df_count,df_t)\n",
    "    # Identifying each indivudal campaign weights\n",
    "    df_merge['weight'] = 0.6/df_merge['count']\n",
    "    df_merge = df_merge[['jid', 'campaign','weight']]\n",
    "    # Concating the dataframe for both First and Last touch points weights with the middle weight \n",
    "    df = pd.concat([df1,df_merge]) \n",
    "    return df\n",
    "\n",
    "uDf = uShapeAttri(df6)\n",
    "uDf = uDf.groupby('campaign')['weight'].agg('sum').reset_index(name = 'weight')\n",
    "# Creating the total campaign data frame\n",
    "totalCampaign = df6.groupby(['campaign'])['campaign'].count().reset_index(name = 'count')\n",
    "uDf = pd.merge(totalCampaign, uDf)\n",
    "# Creating final utouch model \n",
    "uTouchModel = np.array(uDf['weight']/uDf['count'])"
   ]
  },
  {
   "cell_type": "code",
   "execution_count": 38,
   "metadata": {},
   "outputs": [
    {
     "data": {
      "image/png": "[encoded data removed]",
      "text/plain": [
       "<Figure size 1080x288 with 1 Axes>"
      ]
     },
     "metadata": {},
     "output_type": "display_data"
    }
   ],
   "source": [
    "campaign_idx = range(1, 200)\n",
    "\n",
    "fig = plt.figure(figsize=(15,4))\n",
    "ax = fig.add_subplot(111)\n",
    "plt.bar( range(len(uTouchModel[campaign_idx])), uTouchModel[campaign_idx], label='U Shape Attribute Model' )\n",
    "plt.xlabel('Campaign ID')\n",
    "plt.ylabel('Return per impression')\n",
    "plt.legend(loc='upper left')\n",
    "plt.show()"
   ]
  },
  {
   "cell_type": "markdown",
   "metadata": {},
   "source": [
    "<html><font color = 'blue' size = 4> Time decay attribution model"
   ]
  },
  {
   "cell_type": "code",
   "execution_count": 205,
   "metadata": {},
   "outputs": [
    {
     "data": {
      "text/plain": [
       "267617     0\n",
       "534865     0\n",
       "469512     0\n",
       "425058    16\n",
       "533662     0\n",
       "          ..\n",
       "345169    23\n",
       "497565   -30\n",
       "542373    22\n",
       "527319    10\n",
       "249121    22\n",
       "Name: days_time, Length: 565577, dtype: int64"
      ]
     },
     "execution_count": 205,
     "metadata": {},
     "output_type": "execute_result"
    }
   ],
   "source": [
    "(df6.days_time / 86400.).apply(int)"
   ]
  },
  {
   "cell_type": "code",
   "execution_count": 206,
   "metadata": {},
   "outputs": [],
   "source": [
    "df6['days_time'] = df6['conversion_timestamp'] - df6['timestamp']\n",
    "df6['days'] = (df6.days_time / 86400.).apply(int)\n",
    "\n",
    "timedf = df6[['uid', 'campaign', 'conversion','conversion_id','click', 'timestamp_norm', 'jid','days']]\n",
    "\n",
    "df_converted = timedf[timedf['conversion'] == 1]\n",
    "df_converted['timedecay'] = df_converted['days'].transform(lambda x: 2**(-x/7))\n",
    "\n",
    "tdf = df_converted.groupby('campaign')['timedecay'].agg('sum').reset_index(name = 'weight')\n",
    "\n",
    "timedecay = pd.merge(totalCampaign, tdf, how = 'left')\n",
    "timedecay.weight = timedecay.weight.fillna(0)\n",
    "timedecay = np.array(timedecay['weight']/timedecay['count'])"
   ]
  },
  {
   "cell_type": "code",
   "execution_count": 207,
   "metadata": {},
   "outputs": [
    {
     "data": {
      "text/plain": [
       "array([0.13894055, 0.22709578, 0.32954269, 0.19612222, 0.16466987,\n",
       "       0.15545406, 0.26369583, 0.13674497, 0.1167095 ])"
      ]
     },
     "execution_count": 207,
     "metadata": {},
     "output_type": "execute_result"
    }
   ],
   "source": [
    "timedecay[1:10]"
   ]
  },
  {
   "cell_type": "code",
   "execution_count": 208,
   "metadata": {},
   "outputs": [
    {
     "data": {
      "image/png": "[encoded data removed]",
      "text/plain": [
       "<Figure size 1080x288 with 1 Axes>"
      ]
     },
     "metadata": {},
     "output_type": "display_data"
    }
   ],
   "source": [
    "campaign_idx = range(0, 50)\n",
    "\n",
    "fig = plt.figure(figsize=(15,4))\n",
    "ax = fig.add_subplot(111)\n",
    "plt.bar( range(len(timedecay[campaign_idx])), timedecay[campaign_idx], label='TDA' )\n",
    "plt.xlabel('Campaign ID')\n",
    "plt.ylabel('Return per impression')\n",
    "plt.legend(loc='upper left')\n",
    "plt.show()"
   ]
  }
 ],
 "metadata": {
  "kernelspec": {
   "display_name": "Python 3",
   "language": "python",
   "name": "python3"
  },
  "language_info": {
   "codemirror_mode": {
    "name": "ipython",
    "version": 3
   },
   "file_extension": ".py",
   "mimetype": "text/x-python",
   "name": "python",
   "nbconvert_exporter": "python",
   "pygments_lexer": "ipython3",
   "version": "3.8.5"
  }
 },
 "nbformat": 4,
 "nbformat_minor": 4
}
